{
  "nbformat": 4,
  "nbformat_minor": 0,
  "metadata": {
    "colab": {
      "provenance": [],
      "authorship_tag": "ABX9TyMvRarOUbtCZR4x5lFXJGD9",
      "include_colab_link": true
    },
    "kernelspec": {
      "name": "python3",
      "display_name": "Python 3"
    },
    "language_info": {
      "name": "python"
    }
  },
  "cells": [
    {
      "cell_type": "markdown",
      "metadata": {
        "id": "view-in-github",
        "colab_type": "text"
      },
      "source": [
        "<a href=\"https://colab.research.google.com/github/NithinGudimetla/PDS/blob/main/PDS_Project.ipynb\" target=\"_parent\"><img src=\"https://colab.research.google.com/assets/colab-badge.svg\" alt=\"Open In Colab\"/></a>"
      ]
    },
    {
      "cell_type": "code",
      "source": [
        "import pandas as pd\n",
        "import numpy as np\n",
        "from sklearn.model_selection import train_test_split\n",
        "from sklearn.ensemble import RandomForestClassifier\n",
        "from sklearn.preprocessing import StandardScaler, LabelEncoder\n",
        "from sklearn.metrics import classification_report, confusion_matrix\n",
        "import warnings\n",
        "warnings.filterwarnings('ignore')\n",
        "import matplotlib.pyplot as plt\n"
      ],
      "metadata": {
        "id": "TOAA-Kdi9Lu1"
      },
      "execution_count": 15,
      "outputs": []
    },
    {
      "cell_type": "code",
      "source": [
        "\n",
        "# Load the dataset\n",
        "df = pd.read_csv('lending_data.csv')\n",
        "\n",
        "# Display the first few rows\n",
        "print(df.head())\n",
        "\n",
        "# Check for missing values\n",
        "print(df.isnull().sum())\n"
      ],
      "metadata": {
        "colab": {
          "base_uri": "https://localhost:8080/"
        },
        "id": "H1rdX-p29Om7",
        "outputId": "837fcd30-c2a7-4f88-8e71-02d6fa425037"
      },
      "execution_count": 6,
      "outputs": [
        {
          "output_type": "stream",
          "name": "stdout",
          "text": [
            "   loan_size  interest_rate  borrower_income  debt_to_income  num_of_accounts  \\\n",
            "0    10700.0          7.672            52800        0.431818                5   \n",
            "1     8400.0          6.692            43600        0.311927                3   \n",
            "2     9000.0          6.963            46100        0.349241                3   \n",
            "3    10700.0          7.664            52700        0.430740                5   \n",
            "4    10800.0          7.698            53000        0.433962                5   \n",
            "\n",
            "   derogatory_marks  total_debt  loan_status  \n",
            "0                 1       22800            0  \n",
            "1                 0       13600            0  \n",
            "2                 0       16100            0  \n",
            "3                 1       22700            0  \n",
            "4                 1       23000            0  \n",
            "loan_size           0\n",
            "interest_rate       0\n",
            "borrower_income     0\n",
            "debt_to_income      0\n",
            "num_of_accounts     0\n",
            "derogatory_marks    0\n",
            "total_debt          0\n",
            "loan_status         0\n",
            "dtype: int64\n"
          ]
        }
      ]
    },
    {
      "cell_type": "code",
      "source": [
        "\n",
        "# Assuming 'CreditRisk' is the target variable\n",
        "X = df.drop('loan_status', axis=1)\n",
        "y = df['loan_status']\n",
        "\n",
        "# Split the data into training and testing sets\n",
        "X_train, X_test, y_train, y_test = train_test_split(X, y, test_size=0.2, random_state=42)\n",
        "\n",
        "# Feature scaling\n",
        "scaler = StandardScaler()\n",
        "X_train_scaled = scaler.fit_transform(X_train)\n",
        "X_test_scaled = scaler.transform(X_test)\n"
      ],
      "metadata": {
        "id": "FnifjIRL9yWm"
      },
      "execution_count": 11,
      "outputs": []
    },
    {
      "cell_type": "code",
      "execution_count": 13,
      "metadata": {
        "colab": {
          "base_uri": "https://localhost:8080/"
        },
        "id": "ZryngT6O9H33",
        "outputId": "86791d27-5a71-4ee1-8f82-5fb18f036994"
      },
      "outputs": [
        {
          "output_type": "stream",
          "name": "stdout",
          "text": [
            "[[14944    67]\n",
            " [   48   449]]\n",
            "              precision    recall  f1-score   support\n",
            "\n",
            "           0       1.00      1.00      1.00     15011\n",
            "           1       0.87      0.90      0.89       497\n",
            "\n",
            "    accuracy                           0.99     15508\n",
            "   macro avg       0.93      0.95      0.94     15508\n",
            "weighted avg       0.99      0.99      0.99     15508\n",
            "\n"
          ]
        }
      ],
      "source": [
        "\n",
        "# Initialize the model\n",
        "model = RandomForestClassifier(n_estimators=100, random_state=42)\n",
        "\n",
        "# Train the model\n",
        "model.fit(X_train_scaled, y_train)\n",
        "\n",
        "# Make predictions\n",
        "y_pred = model.predict(X_test_scaled)\n",
        "\n",
        "# Evaluate the model\n",
        "print(confusion_matrix(y_test, y_pred))\n",
        "print(classification_report(y_test, y_pred))\n"
      ]
    },
    {
      "cell_type": "code",
      "source": [
        "\n",
        "\n",
        "# Get feature importances\n",
        "importances = model.feature_importances_\n",
        "feature_names = X.columns\n",
        "indices = np.argsort(importances)[::-1]\n",
        "\n",
        "# Plot feature importances\n",
        "plt.figure(figsize=(10,6))\n",
        "plt.title(\"Feature Importances\")\n",
        "plt.bar(range(X.shape[1]), importances[indices])\n",
        "plt.xticks(range(X.shape[1]), feature_names[indices], rotation=90)\n",
        "plt.tight_layout()\n",
        "plt.show()\n"
      ],
      "metadata": {
        "colab": {
          "base_uri": "https://localhost:8080/",
          "height": 607
        },
        "id": "JXVb0qtH9Ks6",
        "outputId": "3e3a37de-15e5-4382-b32b-ea022a97b6cf"
      },
      "execution_count": 16,
      "outputs": [
        {
          "output_type": "display_data",
          "data": {
            "text/plain": [
              "<Figure size 1000x600 with 1 Axes>"
            ],
            "image/png": "[encoded data removed]"
          },
          "metadata": {}
        }
      ]
    },
    {
      "cell_type": "code",
      "source": [
        "# Probability prediction\n",
        "prob = model.predict_proba(X_test_scaled)\n",
        "print(prob[:5])  # Probabilities for first 5 test samples\n"
      ],
      "metadata": {
        "colab": {
          "base_uri": "https://localhost:8080/"
        },
        "id": "tUokxKIW_8rQ",
        "outputId": "a28884a7-3d74-4ea7-d9fb-860dd026aa8c"
      },
      "execution_count": 17,
      "outputs": [
        {
          "output_type": "stream",
          "name": "stdout",
          "text": [
            "[[1. 0.]\n",
            " [1. 0.]\n",
            " [1. 0.]\n",
            " [1. 0.]\n",
            " [1. 0.]]\n"
          ]
        }
      ]
    },
    {
      "cell_type": "code",
      "source": [],
      "metadata": {
        "id": "-Xp67ZzXAUc3"
      },
      "execution_count": null,
      "outputs": []
    }
  ]
}